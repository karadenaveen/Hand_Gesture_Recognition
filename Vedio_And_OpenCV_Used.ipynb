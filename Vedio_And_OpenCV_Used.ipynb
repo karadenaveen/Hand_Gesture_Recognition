{
 "cells": [
  {
   "cell_type": "code",
   "execution_count": null,
   "id": "82064b27-1896-48be-9a40-534018c1014f",
   "metadata": {},
   "outputs": [],
   "source": [
    "import cv2\n",
    "\n",
    "# Path test video file\n",
    "video_path = 'our_web_cap_path'\n",
    "\n",
    "# Open the video file\n",
    "cap = cv2.VideoCapture(video_path)\n",
    "\n",
    "while cap.isOpened():\n",
    "    ret, frame = cap.read()\n",
    "    if not ret:\n",
    "        break\n",
    "\n",
    "    # Convert the frame \n",
    "    img = Image.fromarray(cv2.cvtColor(frame, cv2.COLOR_BGR2RGB))\n",
    "\n",
    "    # Perform inference\n",
    "    results = model(img)\n",
    "\n",
    "    # Display the results\n",
    "    results.show()\n",
    "\n",
    "    # To display the frame with bounding boxes in OpenCV window\n",
    "    frame = results.render()[0]  # Get the image with boxes drawn\n",
    "    cv2.imshow('Frame', frame)\n",
    "\n",
    "    # close loop if 'q' is pressed\n",
    "    if cv2.waitKey(1) & 0xFF == ord('q'):\n",
    "        break\n",
    "\n",
    "cap.release()\n",
    "cv2.destroyAllWindows()"
   ]
  },
  {
   "cell_type": "markdown",
   "id": "101546e2-440c-402f-9cda-7f34e259d958",
   "metadata": {},
   "source": [
    "**Where As OpenCV Is Used**"
   ]
  },
  {
   "cell_type": "code",
   "execution_count": null,
   "id": "debcca7c-f1e9-4dc4-86ec-91e79a808cec",
   "metadata": {},
   "outputs": [],
   "source": [
    "# OpenCV Is Used\n",
    "\n",
    "import cv2\n",
    "\n",
    "# Load the Haar Cascade for hand detection\n",
    "hand_cascade = cv2.CascadeClassifier(cv2.data.haarcascades + 'aGest.xml')  # Replace with the path to your Haar Cascade XML file\n",
    "\n",
    "if hand_cascade.empty():\n",
    "    print(\"Error: Unable to load the Haar Cascade XML file.\")\n",
    "    exit()\n",
    "\n",
    "# Path to your single image\n",
    "image_path = r\"/content/frame_00_01_0006.png\"  # Replace with the path to your image\n",
    "\n",
    "# Load the image\n",
    "frame = cv2.imread(image_path)\n",
    "if frame is None:\n",
    "    print(\"Error: Unable to load image. Check the path.\")\n",
    "    exit()\n",
    "\n",
    "# Convert to grayscale (Haar Cascade requires grayscale images)\n",
    "gray = cv2.cvtColor(frame, cv2.COLOR_BGR2GRAY)\n",
    "\n",
    "# Detect hands\n",
    "hands = hand_cascade.detectMultiScale(gray, scaleFactor=1.1, minNeighbors=5, minSize=(50, 50))\n",
    "\n",
    "# Draw bounding boxes around detected hands\n",
    "for (x, y, w, h) in hands:\n",
    "    cv2.rectangle(frame, (x, y), (x + w, y + h), (0, 255, 0), 2)\n",
    "\n",
    "# Display the result\n",
    "cv2.imshow(\"Hand Detection\", frame)\n",
    "\n",
    "# Wait until a key is pressed and close the window\n",
    "cv2.waitKey(0)\n",
    "cv2.destroyAllWindows()"
   ]
  },
  {
   "cell_type": "code",
   "execution_count": null,
   "id": "e60a538f-1dec-4c78-bd85-3cdd07709aa7",
   "metadata": {},
   "outputs": [],
   "source": []
  },
  {
   "cell_type": "code",
   "execution_count": null,
   "id": "093b7ec4-fa11-4de5-827b-15439b14c8f8",
   "metadata": {},
   "outputs": [],
   "source": []
  },
  {
   "cell_type": "code",
   "execution_count": null,
   "id": "4bc282e4-1a12-456b-ba6f-e29498961774",
   "metadata": {},
   "outputs": [],
   "source": []
  },
  {
   "cell_type": "code",
   "execution_count": null,
   "id": "d6b24855-c65f-40b4-8e35-803e5085ed9b",
   "metadata": {},
   "outputs": [],
   "source": []
  },
  {
   "cell_type": "code",
   "execution_count": null,
   "id": "745681c6-b4f4-4cde-921a-7fcca5da9291",
   "metadata": {},
   "outputs": [],
   "source": []
  },
  {
   "cell_type": "code",
   "execution_count": null,
   "id": "28b18487-52ff-4316-9b13-9fee832364a1",
   "metadata": {},
   "outputs": [],
   "source": []
  },
  {
   "cell_type": "code",
   "execution_count": null,
   "id": "e4230127-8763-47dc-bee5-512a73dbba9d",
   "metadata": {},
   "outputs": [],
   "source": []
  },
  {
   "cell_type": "code",
   "execution_count": null,
   "id": "d4557221-f499-40eb-986a-07768ef03d1f",
   "metadata": {},
   "outputs": [],
   "source": []
  },
  {
   "cell_type": "code",
   "execution_count": null,
   "id": "3586dd90-84a4-4c32-b591-e6beb96462e7",
   "metadata": {},
   "outputs": [],
   "source": []
  },
  {
   "cell_type": "code",
   "execution_count": null,
   "id": "0fc44261-99f7-4011-894f-a5cd3915a25b",
   "metadata": {},
   "outputs": [],
   "source": []
  }
 ],
 "metadata": {
  "kernelspec": {
   "display_name": "Python 3 (ipykernel)",
   "language": "python",
   "name": "python3"
  },
  "language_info": {
   "codemirror_mode": {
    "name": "ipython",
    "version": 3
   },
   "file_extension": ".py",
   "mimetype": "text/x-python",
   "name": "python",
   "nbconvert_exporter": "python",
   "pygments_lexer": "ipython3",
   "version": "3.12.4"
  }
 },
 "nbformat": 4,
 "nbformat_minor": 5
}
